{
 "cells": [
  {
   "cell_type": "markdown",
   "id": "9b53fa93",
   "metadata": {},
   "source": [
    "# 구글 플레이스토어 웹 리뷰 크롤러"
   ]
  },
  {
   "cell_type": "markdown",
   "id": "ec0ddddf",
   "metadata": {},
   "source": [
    "## 초기세팅"
   ]
  },
  {
   "cell_type": "markdown",
   "id": "08a0bd9c",
   "metadata": {},
   "source": [
    "### 1. 라이브러리 설치하기"
   ]
  },
  {
   "cell_type": "code",
   "execution_count": 4,
   "id": "39be2eca",
   "metadata": {},
   "outputs": [
    {
     "name": "stdout",
     "output_type": "stream",
     "text": [
      "Requirement already satisfied: selenium in c:\\users\\jij09\\anaconda3\\lib\\site-packages (4.19.0)\n",
      "Requirement already satisfied: urllib3<3,>=1.26 in c:\\users\\jij09\\anaconda3\\lib\\site-packages (from urllib3[socks]<3,>=1.26->selenium) (1.26.18)\n",
      "Requirement already satisfied: trio~=0.17 in c:\\users\\jij09\\anaconda3\\lib\\site-packages (from selenium) (0.25.0)\n",
      "Requirement already satisfied: trio-websocket~=0.9 in c:\\users\\jij09\\anaconda3\\lib\\site-packages (from selenium) (0.11.1)\n",
      "Requirement already satisfied: certifi>=2021.10.8 in c:\\users\\jij09\\anaconda3\\lib\\site-packages (from selenium) (2023.7.22)\n",
      "Requirement already satisfied: typing_extensions>=4.9.0 in c:\\users\\jij09\\anaconda3\\lib\\site-packages (from selenium) (4.10.0)\n",
      "Requirement already satisfied: attrs>=23.2.0 in c:\\users\\jij09\\anaconda3\\lib\\site-packages (from trio~=0.17->selenium) (23.2.0)\n",
      "Requirement already satisfied: sortedcontainers in c:\\users\\jij09\\anaconda3\\lib\\site-packages (from trio~=0.17->selenium) (2.4.0)\n",
      "Requirement already satisfied: idna in c:\\users\\jij09\\anaconda3\\lib\\site-packages (from trio~=0.17->selenium) (3.4)\n",
      "Requirement already satisfied: outcome in c:\\users\\jij09\\anaconda3\\lib\\site-packages (from trio~=0.17->selenium) (1.3.0.post0)\n",
      "Requirement already satisfied: sniffio>=1.3.0 in c:\\users\\jij09\\anaconda3\\lib\\site-packages (from trio~=0.17->selenium) (1.3.1)\n",
      "Requirement already satisfied: cffi>=1.14 in c:\\users\\jij09\\anaconda3\\lib\\site-packages (from trio~=0.17->selenium) (1.15.1)\n",
      "Requirement already satisfied: exceptiongroup in c:\\users\\jij09\\anaconda3\\lib\\site-packages (from trio~=0.17->selenium) (1.0.4)\n",
      "Requirement already satisfied: wsproto>=0.14 in c:\\users\\jij09\\anaconda3\\lib\\site-packages (from trio-websocket~=0.9->selenium) (1.2.0)\n",
      "Requirement already satisfied: PySocks!=1.5.7,<2.0,>=1.5.6 in c:\\users\\jij09\\anaconda3\\lib\\site-packages (from urllib3[socks]<3,>=1.26->selenium) (1.7.1)\n",
      "Requirement already satisfied: pycparser in c:\\users\\jij09\\anaconda3\\lib\\site-packages (from cffi>=1.14->trio~=0.17->selenium) (2.21)\n",
      "Requirement already satisfied: h11<1,>=0.9.0 in c:\\users\\jij09\\anaconda3\\lib\\site-packages (from wsproto>=0.14->trio-websocket~=0.9->selenium) (0.14.0)\n",
      "Requirement already satisfied: pandas in c:\\users\\jij09\\anaconda3\\lib\\site-packages (1.4.4)\n",
      "Requirement already satisfied: python-dateutil>=2.8.1 in c:\\users\\jij09\\anaconda3\\lib\\site-packages (from pandas) (2.8.2)\n",
      "Requirement already satisfied: pytz>=2020.1 in c:\\users\\jij09\\anaconda3\\lib\\site-packages (from pandas) (2023.3.post1)\n",
      "Requirement already satisfied: numpy>=1.18.5 in c:\\users\\jij09\\anaconda3\\lib\\site-packages (from pandas) (1.24.3)\n",
      "Requirement already satisfied: six>=1.5 in c:\\users\\jij09\\anaconda3\\lib\\site-packages (from python-dateutil>=2.8.1->pandas) (1.16.0)\n"
     ]
    }
   ],
   "source": [
    "!pip install selenium\n",
    "!pip install pandas"
   ]
  },
  {
   "cell_type": "markdown",
   "id": "f1ba164a",
   "metadata": {},
   "source": [
    "### 2. Headless 설정\n",
    "- 프로그램 실행 시 chrome 브라우저 창을 띄우지 않게 옵션을 설정할 수 있다.\n",
    "- 일부 사이트에서 headless 접근을 차단하기 때문에 user-agent 설정이 필요하다."
   ]
  },
  {
   "cell_type": "code",
   "execution_count": 5,
   "id": "a01e5758",
   "metadata": {},
   "outputs": [],
   "source": [
    "from selenium import webdriver\n",
    "from selenium.webdriver.common.by import By\n",
    "\n",
    "# headless\n",
    "options = webdriver.ChromeOptions()\n",
    "options.add_argument(\"--headless=new\")\n",
    "options.add_argument('window-size=1920x1080')\n",
    "# user agent\n",
    "options.add_argument(\"user-agent=Mozilla/5.0 (Windows NT 10.0; Win64; x64) AppleWebKit/537.36 (KHTML, like Gecko) Chrome/84.0.4147.89 Safari/537.36\")\n",
    "options.add_argument(\"disable-gpu\")"
   ]
  },
  {
   "cell_type": "code",
   "execution_count": 6,
   "id": "73f662cc",
   "metadata": {},
   "outputs": [],
   "source": [
    "# chromedriver\n",
    "driver = webdriver.Chrome(options=options)"
   ]
  },
  {
   "cell_type": "markdown",
   "id": "d6b18d09",
   "metadata": {},
   "source": [
    "### 3. URL 설정\n",
    "- 현재 토스 구글플레이 페이지로 설정되어있다."
   ]
  },
  {
   "cell_type": "code",
   "execution_count": 7,
   "id": "7d4f1184",
   "metadata": {},
   "outputs": [],
   "source": [
    "URL = \"https://play.google.com/store/apps/details?id=viva.republica.toss&hl=ko&gl=US\"\n",
    "\n",
    "# Load Page\n",
    "# chrome을 띄워 토스 구글플레이 페이지를 킨다.\n",
    "driver.get(url=URL)"
   ]
  },
  {
   "cell_type": "markdown",
   "id": "49cfa29c",
   "metadata": {},
   "source": [
    "## '리뷰 모두 보기' 버튼 클릭"
   ]
  },
  {
   "cell_type": "code",
   "execution_count": 8,
   "id": "0e623c85",
   "metadata": {},
   "outputs": [
    {
     "ename": "NameError",
     "evalue": "name 'time' is not defined",
     "output_type": "error",
     "traceback": [
      "\u001b[1;31m---------------------------------------------------------------------------\u001b[0m",
      "\u001b[1;31mNameError\u001b[0m                                 Traceback (most recent call last)",
      "Cell \u001b[1;32mIn[8], line 9\u001b[0m\n\u001b[0;32m      6\u001b[0m \u001b[38;5;28;01mif\u001b[39;00m isTrue :\n\u001b[0;32m      7\u001b[0m     \u001b[38;5;66;03m#driver.execute_script(\"arguments[0].click();\", spread_review)\u001b[39;00m\n\u001b[0;32m      8\u001b[0m     spread_review\u001b[38;5;241m.\u001b[39mclick()\n\u001b[1;32m----> 9\u001b[0m     \u001b[43mtime\u001b[49m\u001b[38;5;241m.\u001b[39msleep(\u001b[38;5;241m1.5\u001b[39m)\n",
      "\u001b[1;31mNameError\u001b[0m: name 'time' is not defined"
     ]
    }
   ],
   "source": [
    "import time\n",
    "\n",
    "# 최하단으로 스크롤내리기\n",
    "driver.execute_script(\"window.scrollTo(0, document.body.scrollHeight);\")\n",
    "# 리뷰 모두보기 클릭\n",
    "spread_review = driver.find_element(by=By.XPATH, value = '/html/body/c-wiz[2]/div/div/div[1]/div/div[2]/div/div[1]/div[1]/c-wiz[5]/section/div/div[2]/div[5]/div/div/button')\n",
    "isTrue = spread_review.is_displayed()\n",
    "if isTrue :\n",
    "    #driver.execute_script(\"arguments[0].click();\", spread_review)\n",
    "    spread_review.click()\n",
    "    time.sleep(1.5)"
   ]
  },
  {
   "cell_type": "markdown",
   "id": "0bcf7695",
   "metadata": {},
   "source": [
    "## 무한스크롤"
   ]
  },
  {
   "cell_type": "code",
   "execution_count": null,
   "id": "1d056255",
   "metadata": {},
   "outputs": [],
   "source": [
    "# 리뷰 팝업창 element\n",
    "all_reviews = driver.find_element(by=By.XPATH, value ='/html/body/div[4]/div[2]/div/div/div/div/div[2]')\n",
    "# 현재 리뷰 팝업창 height 구하기\n",
    "last_height = driver.execute_script(\"return arguments[0].scrollHeight\", all_reviews)\n",
    "# last_height = driver.execute_script(\"return document.getElementsByClassName('odk6He')[0].scrollHeight\")\n",
    "\n",
    "for _ in range(5) :\n",
    "    # 현재 height만큼 스크롤\n",
    "    driver.execute_script(f'arguments[0].scrollTop = {last_height}', all_reviews)\n",
    "    time.sleep(1)   # 로드 기다리는 시간\n",
    "\n",
    "    new_height = driver.execute_script(\"return arguments[0].scrollHeight\", all_reviews)\n",
    "    # new_height = driver.execute_script(\"return document.getElementsByClassName('odk6He')[0].scrollHeight\")\n",
    "\n",
    "    # 스크롤을 진행했는데도 이전 height와 스크롤 이후 height가 같으면 더이상 로드할 데이터가 없다는 뜻이므로 스크롤 중단\n",
    "    if new_height == last_height :\n",
    "        break\n",
    "\n",
    "    last_height = new_height"
   ]
  },
  {
   "cell_type": "markdown",
   "id": "1cd4354a",
   "metadata": {},
   "source": [
    "## 데이터 수집"
   ]
  },
  {
   "cell_type": "code",
   "execution_count": null,
   "id": "8ee1a470",
   "metadata": {},
   "outputs": [],
   "source": [
    "import pandas as pd\n",
    "\n",
    "data = pd.DataFrame(data=[], columns=['날짜','리뷰','별점'])\n",
    "#날짜, 리뷰, 별점 수집\n",
    "dates = driver.find_elements(by=By.XPATH, value = '//div[@class=\"odk6He\"]//span[@class=\"bp9Aid\"]')\n",
    "reviews=driver.find_elements(by=By.XPATH, value = '//div[@class=\"odk6He\"]//div[@class=\"h3YV2d\"]')\n",
    "stargrades = driver.find_elements(by=By.XPATH, value = '//div[@class=\"odk6He\"]//div[@class=\"iXRFPc\"]')\n",
    "\n",
    "\n",
    "# 수집한 리뷰를 DataFrame에 삽입\n",
    "for i in range(len(reviews)):\n",
    "    tmp = []\n",
    "    tmp.append(dates[i].text)\n",
    "    tmp.append(reviews[i].text)\n",
    "    tmp.append(stargrades[i].get_attribute('aria-label'))\n",
    "\n",
    "    tmp = pd.DataFrame(data=[tmp], columns = data.columns)\n",
    "    data = pd.concat([data,tmp])\n",
    "\n",
    "# 인덱스 재배열\n",
    "data.reset_index(inplace=True, drop=True)"
   ]
  },
  {
   "cell_type": "markdown",
   "id": "34e24718",
   "metadata": {},
   "source": [
    "## 별점 데이터 전처리"
   ]
  },
  {
   "cell_type": "code",
   "execution_count": null,
   "id": "1e306f8d",
   "metadata": {},
   "outputs": [],
   "source": [
    "import re\n",
    "\n",
    "# 별점에서 숫자만 추출\n",
    "data['별점'] = data['별점'].apply(lambda x : x[5:])\n",
    "m = re.compile('[0-9][\\.0-9]*') # 정규표현식\n",
    "data['별점'] = data['별점'].apply(lambda x : m.findall(x)[0])"
   ]
  },
  {
   "cell_type": "code",
   "execution_count": null,
   "id": "8d91f100",
   "metadata": {},
   "outputs": [],
   "source": [
    "# 엑셀 파일로 추출\n",
    "data.to_excel('reviews.xlsx')\n",
    "driver.close()"
   ]
  }
 ],
 "metadata": {
  "kernelspec": {
   "display_name": "Python 3 (ipykernel)",
   "language": "python",
   "name": "python3"
  },
  "language_info": {
   "codemirror_mode": {
    "name": "ipython",
    "version": 3
   },
   "file_extension": ".py",
   "mimetype": "text/x-python",
   "name": "python",
   "nbconvert_exporter": "python",
   "pygments_lexer": "ipython3",
   "version": "3.9.18"
  }
 },
 "nbformat": 4,
 "nbformat_minor": 5
}
