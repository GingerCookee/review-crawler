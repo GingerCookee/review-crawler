{
 "cells": [
  {
   "cell_type": "markdown",
   "id": "1cd7a508",
   "metadata": {},
   "source": [
    "# 구글 플레이스토어 웹 리뷰 크롤러"
   ]
  },
  {
   "cell_type": "markdown",
   "id": "1e82e94c",
   "metadata": {},
   "source": [
    "## 초기세팅"
   ]
  },
  {
   "cell_type": "markdown",
   "id": "a46cf59e",
   "metadata": {},
   "source": [
    "### 1. 라이브러리 설치하기"
   ]
  },
  {
   "cell_type": "code",
   "execution_count": 1,
   "id": "961ccfac",
   "metadata": {},
   "outputs": [
    {
     "name": "stdout",
     "output_type": "stream",
     "text": [
      "Requirement already satisfied: selenium in c:\\users\\sim2real\\miniconda3\\envs\\cuda-env\\lib\\site-packages (4.23.1)\n",
      "Requirement already satisfied: urllib3<3,>=1.26 in c:\\users\\sim2real\\miniconda3\\envs\\cuda-env\\lib\\site-packages (from urllib3[socks]<3,>=1.26->selenium) (2.2.2)\n",
      "Requirement already satisfied: trio~=0.17 in c:\\users\\sim2real\\miniconda3\\envs\\cuda-env\\lib\\site-packages (from selenium) (0.26.0)\n",
      "Requirement already satisfied: trio-websocket~=0.9 in c:\\users\\sim2real\\miniconda3\\envs\\cuda-env\\lib\\site-packages (from selenium) (0.11.1)\n",
      "Requirement already satisfied: certifi>=2021.10.8 in c:\\users\\sim2real\\miniconda3\\envs\\cuda-env\\lib\\site-packages (from selenium) (2024.7.4)\n",
      "Requirement already satisfied: typing_extensions~=4.9 in c:\\users\\sim2real\\miniconda3\\envs\\cuda-env\\lib\\site-packages (from selenium) (4.12.2)\n",
      "Requirement already satisfied: websocket-client~=1.8 in c:\\users\\sim2real\\miniconda3\\envs\\cuda-env\\lib\\site-packages (from selenium) (1.8.0)\n",
      "Requirement already satisfied: attrs>=23.2.0 in c:\\users\\sim2real\\miniconda3\\envs\\cuda-env\\lib\\site-packages (from trio~=0.17->selenium) (23.2.0)\n",
      "Requirement already satisfied: sortedcontainers in c:\\users\\sim2real\\miniconda3\\envs\\cuda-env\\lib\\site-packages (from trio~=0.17->selenium) (2.4.0)\n",
      "Requirement already satisfied: idna in c:\\users\\sim2real\\miniconda3\\envs\\cuda-env\\lib\\site-packages (from trio~=0.17->selenium) (3.7)\n",
      "Requirement already satisfied: outcome in c:\\users\\sim2real\\miniconda3\\envs\\cuda-env\\lib\\site-packages (from trio~=0.17->selenium) (1.3.0.post0)\n",
      "Requirement already satisfied: sniffio>=1.3.0 in c:\\users\\sim2real\\miniconda3\\envs\\cuda-env\\lib\\site-packages (from trio~=0.17->selenium) (1.3.0)\n",
      "Requirement already satisfied: cffi>=1.14 in c:\\users\\sim2real\\miniconda3\\envs\\cuda-env\\lib\\site-packages (from trio~=0.17->selenium) (1.16.0)\n",
      "Requirement already satisfied: exceptiongroup in c:\\users\\sim2real\\miniconda3\\envs\\cuda-env\\lib\\site-packages (from trio~=0.17->selenium) (1.2.0)\n",
      "Requirement already satisfied: wsproto>=0.14 in c:\\users\\sim2real\\miniconda3\\envs\\cuda-env\\lib\\site-packages (from trio-websocket~=0.9->selenium) (1.2.0)\n",
      "Requirement already satisfied: pysocks!=1.5.7,<2.0,>=1.5.6 in c:\\users\\sim2real\\miniconda3\\envs\\cuda-env\\lib\\site-packages (from urllib3[socks]<3,>=1.26->selenium) (1.7.1)\n",
      "Requirement already satisfied: pycparser in c:\\users\\sim2real\\miniconda3\\envs\\cuda-env\\lib\\site-packages (from cffi>=1.14->trio~=0.17->selenium) (2.22)\n",
      "Requirement already satisfied: h11<1,>=0.9.0 in c:\\users\\sim2real\\miniconda3\\envs\\cuda-env\\lib\\site-packages (from wsproto>=0.14->trio-websocket~=0.9->selenium) (0.14.0)\n",
      "Requirement already satisfied: pandas in c:\\users\\sim2real\\miniconda3\\envs\\cuda-env\\lib\\site-packages (2.0.3)\n",
      "Requirement already satisfied: python-dateutil>=2.8.2 in c:\\users\\sim2real\\miniconda3\\envs\\cuda-env\\lib\\site-packages (from pandas) (2.9.0)\n",
      "Requirement already satisfied: pytz>=2020.1 in c:\\users\\sim2real\\miniconda3\\envs\\cuda-env\\lib\\site-packages (from pandas) (2024.1)\n",
      "Requirement already satisfied: tzdata>=2022.1 in c:\\users\\sim2real\\miniconda3\\envs\\cuda-env\\lib\\site-packages (from pandas) (2024.1)\n",
      "Requirement already satisfied: numpy>=1.20.3 in c:\\users\\sim2real\\miniconda3\\envs\\cuda-env\\lib\\site-packages (from pandas) (1.24.3)\n",
      "Requirement already satisfied: six>=1.5 in c:\\users\\sim2real\\miniconda3\\envs\\cuda-env\\lib\\site-packages (from python-dateutil>=2.8.2->pandas) (1.16.0)\n"
     ]
    }
   ],
   "source": [
    "!pip install selenium\n",
    "!pip install pandas"
   ]
  },
  {
   "cell_type": "markdown",
   "id": "6b5f552c",
   "metadata": {},
   "source": [
    "### 2. Headless 설정\n",
    "- 프로그램 실행 시 chrome 브라우저 창을 띄우지 않게 옵션을 설정할 수 있다.\n",
    "- 일부 사이트에서 headless 접근을 차단하기 때문에 user-agent 설정이 필요하다."
   ]
  },
  {
   "cell_type": "code",
   "execution_count": 2,
   "id": "02f17a26",
   "metadata": {},
   "outputs": [],
   "source": [
    "from selenium import webdriver\n",
    "from selenium.webdriver.common.by import By\n",
    "\n",
    "# headless\n",
    "options = webdriver.ChromeOptions()\n",
    "options.add_argument(\"--headless=new\")\n",
    "options.add_argument('window-size=1920x1080')\n",
    "# user agent\n",
    "options.add_argument(\"user-agent=Mozilla/5.0 (Windows NT 10.0; Win64; x64) AppleWebKit/537.36 (KHTML, like Gecko) Chrome/84.0.4147.89 Safari/537.36\")\n",
    "options.add_argument(\"disable-gpu\")"
   ]
  },
  {
   "cell_type": "code",
   "execution_count": 3,
   "id": "be7de8ba",
   "metadata": {},
   "outputs": [],
   "source": [
    "# chromedriver\n",
    "driver = webdriver.Chrome(options=options)"
   ]
  },
  {
   "cell_type": "markdown",
   "id": "6307b908",
   "metadata": {},
   "source": [
    "### 3. URL 설정\n",
    "- raw_data에서 하나씩 뽑아 쓰는 방식"
   ]
  },
  {
   "cell_type": "code",
   "execution_count": 4,
   "id": "10fab3e5",
   "metadata": {},
   "outputs": [],
   "source": [
    "# raw_data = {\n",
    "# \"https://play.google.com/store/apps/details?id=com.superjoy.idleheroes&hl=ko&gl=US\" : \"용사단 키우기\",\n",
    "# \"https://play.google.com/store/apps/details?id=com.superbox.aos.herowave&hl=ko&gl=US\" : \"히어로 원정대-키우기 방치형 RPG\",\n",
    "# \"https://play.google.com/store/apps/details?id=com.miHoYo.GenshinImpact&hl=ko_KR\" : \"원신\",\n",
    "# \"https://play.google.com/store/apps/details?id=com.abocado.eggplant&hl=ko&gl=US\" : \"생존법사-로그라이크 게임\",\n",
    "# \"https://play.google.com/store/apps/details?id=com.Romanbard.Jumo&hl=ko&gl=US\" : \"주모 키우기 - 조선시대 방치형 클리커\",\n",
    "# \"https://play.google.com/store/apps/details?id=com.neowiz.game.mok&hl=ko&gl=US\" : \"마스터 오브 나이츠\",\n",
    "# \"https://play.google.com/store/apps/details?id=com.patterncorp.yokai&hl=ko&gl=US\" : \"캣앤나이츠-사무라이 블레이드\",\n",
    "# \"https://play.google.com/store/apps/details?id=com.albiononline&hl=ko-KR\": \"알비온 온라인\",\n",
    "# \"https://play.google.com/store/apps/details?id=com.HoYoverse.hkrpgoversea&hl=ko-KR\" : \"붕괴-스타레일\",\n",
    "# \"https://play.google.com/store/apps/details?id=com.asobimo.toramonline&hl=ko-KR\":  \"RPG 토람 온라인\",\n",
    "# \"https://play.google.com/store/apps/details?id=com.com2us.smon.normal.freefull.google.kr.android.common&hl=ko-KR\": \"서머너즈 워-천공의 아레나\",\n",
    "# \"https://play.google.com/store/apps/details?id=com.tapas.heroesrestaurant&hl=ko-KR\": \"용사식당\",\n",
    "# \"https://play.google.com/store/apps/details?id=com.pearlabyss.blackdesertm&hl=ko-KR\": \"검은사막 모바일\",\n",
    "# \"https://play.google.com/store/apps/details?id=studio.gameberry.idlehunter&hl=ko_KR\" : \"헌터 키우기\",\n",
    "# \"https://play.google.com/store/apps/details?id=com.gear2.growslayer&hl=ko_KR\" : \"슬레이어 키우기\",\n",
    "# \"https://play.google.com/store/apps/details?id=com.cookapps.ShadowKnightsIdleRPG&hl=ko_KR\" : \"그림자 기사단\",\n",
    "# \"https://play.google.com/store/apps/details?id=com.cookapps.berserkidle&hl=ko_KR\": \"광전사 키우기\",\n",
    "# \"https://play.google.com/store/apps/details?id=com.gamepub.hab.g&hl=ko_KR\":\"합성소녀 키우기\",\n",
    "# \"https://play.google.com/store/apps/details?id=com.dev3ffactory.SweetHome&hl=ko_KR\":\"스위트홈\",\n",
    "# \"https://play.google.com/store/apps/details?id=com.devsisters.ck&pcampaignid=merch_published_cluster_promotion_battlestar_top_picks&hl=ko_KR\" : \"쿠키런 킹덤\",\n",
    "# \"https://play.google.com/store/apps/details?id=net.cravemob.zeus&hl=ko-KR\": \"리벤저 사가\"}\n",
    "\n",
    "# URLS = list(raw_data.keys())\n",
    "# APPNAMES = list(raw_data.values())\n",
    "\n",
    "# for URL, NAME in zip(URLS, APPNAMES) :\n",
    "\n",
    "#     # Load Page\n",
    "#     # chrome을 띄워 토스 구글플레이 페이지를 킨다.\n",
    "#     driver.get(url=URL)\n",
    "\n",
    "raw_data = {\n",
    "\"https://play.google.com/store/apps/details?id=com.miHoYo.GenshinImpact&hl=ko_KR\" : \"원신\",\n",
    "\"https://play.google.com/store/apps/details?id=com.abocado.eggplant&hl=ko&gl=US\" : \"생존법사-로그라이크 게임\",\n",
    "\"https://play.google.com/store/apps/details?id=com.Romanbard.Jumo&hl=ko&gl=US\" : \"주모 키우기 - 조선시대 방치형 클리커\",\n",
    "\"https://play.google.com/store/apps/details?id=com.neowiz.game.mok&hl=ko&gl=US\" : \"마스터 오브 나이츠\",\n",
    "\"https://play.google.com/store/apps/details?id=com.patterncorp.yokai&hl=ko&gl=US\" : \"캣앤나이츠-사무라이 블레이드\",\n",
    "\"https://play.google.com/store/apps/details?id=com.albiononline&hl=ko-KR\": \"알비온 온라인\",\n",
    "\"https://play.google.com/store/apps/details?id=com.HoYoverse.hkrpgoversea&hl=ko-KR\" : \"붕괴-스타레일\",\n",
    "\"https://play.google.com/store/apps/details?id=com.asobimo.toramonline&hl=ko-KR\":  \"RPG 토람 온라인\",\n",
    "\"https://play.google.com/store/apps/details?id=com.com2us.smon.normal.freefull.google.kr.android.common&hl=ko-KR\": \"서머너즈 워-천공의 아레나\",\n",
    "\"https://play.google.com/store/apps/details?id=com.tapas.heroesrestaurant&hl=ko-KR\": \"용사식당\",\n",
    "\"https://play.google.com/store/apps/details?id=com.pearlabyss.blackdesertm&hl=ko-KR\": \"검은사막 모바일\",\n",
    "\"https://play.google.com/store/apps/details?id=studio.gameberry.idlehunter&hl=ko_KR\" : \"헌터 키우기\",\n",
    "\"https://play.google.com/store/apps/details?id=com.gear2.growslayer&hl=ko_KR\" : \"슬레이어 키우기\",\n",
    "\"https://play.google.com/store/apps/details?id=com.cookapps.ShadowKnightsIdleRPG&hl=ko_KR\" : \"그림자 기사단\",\n",
    "\"https://play.google.com/store/apps/details?id=com.cookapps.berserkidle&hl=ko_KR\": \"광전사 키우기\",\n",
    "\"https://play.google.com/store/apps/details?id=com.gamepub.hab.g&hl=ko_KR\":\"합성소녀 키우기\",\n",
    "\"https://play.google.com/store/apps/details?id=com.dev3ffactory.SweetHome&hl=ko_KR\":\"스위트홈\",\n",
    "\"https://play.google.com/store/apps/details?id=com.devsisters.ck&pcampaignid=merch_published_cluster_promotion_battlestar_top_picks&hl=ko_KR\" : \"쿠키런 킹덤\",\n",
    "\"https://play.google.com/store/apps/details?id=net.cravemob.zeus&hl=ko-KR\": \"리벤저 사가\"}\n",
    "\n",
    "URLS = list(raw_data.keys())\n",
    "APPNAMES = list(raw_data.values())\n",
    "\n",
    "for URL, NAME in zip(URLS, APPNAMES) :\n",
    "\n",
    "    # Load Page\n",
    "    # chrome을 띄워 토스 구글플레이 페이지를 킨다.\n",
    "    driver.get(url=URL)"
   ]
  },
  {
   "cell_type": "markdown",
   "id": "b91fcfd9",
   "metadata": {},
   "source": [
    "## 크롤링 시작\n",
    "### 1. '리뷰 모두 보기' 버튼 클릭\n",
    "### 2. 무한 스크롤\n",
    "### 3. 데이터 수집"
   ]
  },
  {
   "cell_type": "code",
   "execution_count": 5,
   "id": "ad15217a",
   "metadata": {},
   "outputs": [
    {
     "name": "stdout",
     "output_type": "stream",
     "text": [
      "Requirement already satisfied: openpyxl in c:\\users\\sim2real\\miniconda3\\envs\\cuda-env\\lib\\site-packages (3.1.5)\n",
      "Requirement already satisfied: et-xmlfile in c:\\users\\sim2real\\miniconda3\\envs\\cuda-env\\lib\\site-packages (from openpyxl) (1.1.0)\n"
     ]
    }
   ],
   "source": [
    "!pip install openpyxl"
   ]
  },
  {
   "cell_type": "code",
   "execution_count": 6,
   "id": "d4cd4e8c",
   "metadata": {},
   "outputs": [
    {
     "name": "stdout",
     "output_type": "stream",
     "text": [
      "원신 스크롤 시작\n"
     ]
    },
    {
     "ename": "TimeoutException",
     "evalue": "Message: script timeout\n  (Session info: chrome=126.0.6478.183)\nStacktrace:\n\tGetHandleVerifier [0x00007FF753F8EEB2+31554]\n\t(No symbol) [0x00007FF753F07EE9]\n\t(No symbol) [0x00007FF753DC8559]\n\t(No symbol) [0x00007FF753E5D7D5]\n\t(No symbol) [0x00007FF753E3D02A]\n\t(No symbol) [0x00007FF753E5C977]\n\t(No symbol) [0x00007FF753E3CDD3]\n\t(No symbol) [0x00007FF753E0A33B]\n\t(No symbol) [0x00007FF753E0AED1]\n\tGetHandleVerifier [0x00007FF754298B2D+3217341]\n\tGetHandleVerifier [0x00007FF7542E5AF3+3532675]\n\tGetHandleVerifier [0x00007FF7542DB0F0+3489152]\n\tGetHandleVerifier [0x00007FF75403E786+750614]\n\t(No symbol) [0x00007FF753F1376F]\n\t(No symbol) [0x00007FF753F0EB24]\n\t(No symbol) [0x00007FF753F0ECB2]\n\t(No symbol) [0x00007FF753EFE17F]\n\tBaseThreadInitThunk [0x00007FFBC3FF257D+29]\n\tRtlUserThreadStart [0x00007FFBC4EAAF28+40]\n",
     "output_type": "error",
     "traceback": [
      "\u001b[1;31m---------------------------------------------------------------------------\u001b[0m",
      "\u001b[1;31mTimeoutException\u001b[0m                          Traceback (most recent call last)",
      "Cell \u001b[1;32mIn[6], line 34\u001b[0m\n\u001b[0;32m     31\u001b[0m driver\u001b[38;5;241m.\u001b[39mexecute_script(\u001b[38;5;124mf\u001b[39m\u001b[38;5;124m'\u001b[39m\u001b[38;5;124marguments[0].scrollTop = \u001b[39m\u001b[38;5;132;01m{\u001b[39;00mlast_height\u001b[38;5;132;01m}\u001b[39;00m\u001b[38;5;124m'\u001b[39m, all_reviews)\n\u001b[0;32m     32\u001b[0m time\u001b[38;5;241m.\u001b[39msleep(\u001b[38;5;241m1\u001b[39m)   \u001b[38;5;66;03m# 로드 기다리는 시간\u001b[39;00m\n\u001b[1;32m---> 34\u001b[0m new_height \u001b[38;5;241m=\u001b[39m \u001b[43mdriver\u001b[49m\u001b[38;5;241;43m.\u001b[39;49m\u001b[43mexecute_script\u001b[49m\u001b[43m(\u001b[49m\u001b[38;5;124;43m\"\u001b[39;49m\u001b[38;5;124;43mreturn arguments[0].scrollHeight\u001b[39;49m\u001b[38;5;124;43m\"\u001b[39;49m\u001b[43m,\u001b[49m\u001b[43m \u001b[49m\u001b[43mall_reviews\u001b[49m\u001b[43m)\u001b[49m\n\u001b[0;32m     35\u001b[0m \u001b[38;5;66;03m# new_height = driver.execute_script(\"return document.getElementsByClassName('odk6He')[0].scrollHeight\")\u001b[39;00m\n\u001b[0;32m     36\u001b[0m \n\u001b[0;32m     37\u001b[0m \u001b[38;5;66;03m# 스크롤을 진행했는데도 이전 height와 스크롤 이후 height가 같으면 더이상 로드할 데이터가 없다는 뜻이므로 스크롤 중단\u001b[39;00m\n\u001b[0;32m     38\u001b[0m \u001b[38;5;28;01mif\u001b[39;00m new_height \u001b[38;5;241m==\u001b[39m last_height :\n",
      "File \u001b[1;32mc:\\Users\\sim2real\\miniconda3\\envs\\cuda-env\\lib\\site-packages\\selenium\\webdriver\\remote\\webdriver.py:414\u001b[0m, in \u001b[0;36mWebDriver.execute_script\u001b[1;34m(self, script, *args)\u001b[0m\n\u001b[0;32m    411\u001b[0m converted_args \u001b[38;5;241m=\u001b[39m \u001b[38;5;28mlist\u001b[39m(args)\n\u001b[0;32m    412\u001b[0m command \u001b[38;5;241m=\u001b[39m Command\u001b[38;5;241m.\u001b[39mW3C_EXECUTE_SCRIPT\n\u001b[1;32m--> 414\u001b[0m \u001b[38;5;28;01mreturn\u001b[39;00m \u001b[38;5;28;43mself\u001b[39;49m\u001b[38;5;241;43m.\u001b[39;49m\u001b[43mexecute\u001b[49m\u001b[43m(\u001b[49m\u001b[43mcommand\u001b[49m\u001b[43m,\u001b[49m\u001b[43m \u001b[49m\u001b[43m{\u001b[49m\u001b[38;5;124;43m\"\u001b[39;49m\u001b[38;5;124;43mscript\u001b[39;49m\u001b[38;5;124;43m\"\u001b[39;49m\u001b[43m:\u001b[49m\u001b[43m \u001b[49m\u001b[43mscript\u001b[49m\u001b[43m,\u001b[49m\u001b[43m \u001b[49m\u001b[38;5;124;43m\"\u001b[39;49m\u001b[38;5;124;43margs\u001b[39;49m\u001b[38;5;124;43m\"\u001b[39;49m\u001b[43m:\u001b[49m\u001b[43m \u001b[49m\u001b[43mconverted_args\u001b[49m\u001b[43m}\u001b[49m\u001b[43m)\u001b[49m[\u001b[38;5;124m\"\u001b[39m\u001b[38;5;124mvalue\u001b[39m\u001b[38;5;124m\"\u001b[39m]\n",
      "File \u001b[1;32mc:\\Users\\sim2real\\miniconda3\\envs\\cuda-env\\lib\\site-packages\\selenium\\webdriver\\remote\\webdriver.py:354\u001b[0m, in \u001b[0;36mWebDriver.execute\u001b[1;34m(self, driver_command, params)\u001b[0m\n\u001b[0;32m    352\u001b[0m response \u001b[38;5;241m=\u001b[39m \u001b[38;5;28mself\u001b[39m\u001b[38;5;241m.\u001b[39mcommand_executor\u001b[38;5;241m.\u001b[39mexecute(driver_command, params)\n\u001b[0;32m    353\u001b[0m \u001b[38;5;28;01mif\u001b[39;00m response:\n\u001b[1;32m--> 354\u001b[0m     \u001b[38;5;28;43mself\u001b[39;49m\u001b[38;5;241;43m.\u001b[39;49m\u001b[43merror_handler\u001b[49m\u001b[38;5;241;43m.\u001b[39;49m\u001b[43mcheck_response\u001b[49m\u001b[43m(\u001b[49m\u001b[43mresponse\u001b[49m\u001b[43m)\u001b[49m\n\u001b[0;32m    355\u001b[0m     response[\u001b[38;5;124m\"\u001b[39m\u001b[38;5;124mvalue\u001b[39m\u001b[38;5;124m\"\u001b[39m] \u001b[38;5;241m=\u001b[39m \u001b[38;5;28mself\u001b[39m\u001b[38;5;241m.\u001b[39m_unwrap_value(response\u001b[38;5;241m.\u001b[39mget(\u001b[38;5;124m\"\u001b[39m\u001b[38;5;124mvalue\u001b[39m\u001b[38;5;124m\"\u001b[39m, \u001b[38;5;28;01mNone\u001b[39;00m))\n\u001b[0;32m    356\u001b[0m     \u001b[38;5;28;01mreturn\u001b[39;00m response\n",
      "File \u001b[1;32mc:\\Users\\sim2real\\miniconda3\\envs\\cuda-env\\lib\\site-packages\\selenium\\webdriver\\remote\\errorhandler.py:229\u001b[0m, in \u001b[0;36mErrorHandler.check_response\u001b[1;34m(self, response)\u001b[0m\n\u001b[0;32m    227\u001b[0m         alert_text \u001b[38;5;241m=\u001b[39m value[\u001b[38;5;124m\"\u001b[39m\u001b[38;5;124malert\u001b[39m\u001b[38;5;124m\"\u001b[39m]\u001b[38;5;241m.\u001b[39mget(\u001b[38;5;124m\"\u001b[39m\u001b[38;5;124mtext\u001b[39m\u001b[38;5;124m\"\u001b[39m)\n\u001b[0;32m    228\u001b[0m     \u001b[38;5;28;01mraise\u001b[39;00m exception_class(message, screen, stacktrace, alert_text)  \u001b[38;5;66;03m# type: ignore[call-arg]  # mypy is not smart enough here\u001b[39;00m\n\u001b[1;32m--> 229\u001b[0m \u001b[38;5;28;01mraise\u001b[39;00m exception_class(message, screen, stacktrace)\n",
      "\u001b[1;31mTimeoutException\u001b[0m: Message: script timeout\n  (Session info: chrome=126.0.6478.183)\nStacktrace:\n\tGetHandleVerifier [0x00007FF753F8EEB2+31554]\n\t(No symbol) [0x00007FF753F07EE9]\n\t(No symbol) [0x00007FF753DC8559]\n\t(No symbol) [0x00007FF753E5D7D5]\n\t(No symbol) [0x00007FF753E3D02A]\n\t(No symbol) [0x00007FF753E5C977]\n\t(No symbol) [0x00007FF753E3CDD3]\n\t(No symbol) [0x00007FF753E0A33B]\n\t(No symbol) [0x00007FF753E0AED1]\n\tGetHandleVerifier [0x00007FF754298B2D+3217341]\n\tGetHandleVerifier [0x00007FF7542E5AF3+3532675]\n\tGetHandleVerifier [0x00007FF7542DB0F0+3489152]\n\tGetHandleVerifier [0x00007FF75403E786+750614]\n\t(No symbol) [0x00007FF753F1376F]\n\t(No symbol) [0x00007FF753F0EB24]\n\t(No symbol) [0x00007FF753F0ECB2]\n\t(No symbol) [0x00007FF753EFE17F]\n\tBaseThreadInitThunk [0x00007FFBC3FF257D+29]\n\tRtlUserThreadStart [0x00007FFBC4EAAF28+40]\n"
     ]
    }
   ],
   "source": [
    "import time\n",
    "import pandas as pd\n",
    "import re\n",
    "\n",
    "for URL, NAME in zip(URLS, APPNAMES) :\n",
    "\n",
    "    # Load Page\n",
    "    # chrome을 띄워 토스 구글플레이 페이지를 킨다.\n",
    "    driver.get(url=URL)\n",
    "    print(f\"{NAME} 스크롤 시작\")\n",
    "\n",
    "    # 최하단으로 스크롤내리기\n",
    "    driver.execute_script(\"window.scrollTo(0, document.body.scrollHeight);\")\n",
    "    # 리뷰 모두보기 클릭\n",
    "    spread_review = driver.find_element(by=By.XPATH, value = '/html/body/c-wiz[2]/div/div/div[1]/div/div[2]/div/div[1]/div[1]/c-wiz[5]/section/div/div[2]/div[5]/div/div/button')\n",
    "    isTrue = spread_review.is_displayed()\n",
    "    if isTrue :\n",
    "        driver.execute_script(\"arguments[0].click();\", spread_review)\n",
    "        #spread_review.click()\n",
    "        time.sleep(1.5)\n",
    "\n",
    "\n",
    "    # 리뷰 팝업창 element\n",
    "    all_reviews = driver.find_element(by=By.XPATH, value ='/html/body/div[4]/div[2]/div/div/div/div/div[2]')\n",
    "    # 현재 리뷰 팝업창 height 구하기\n",
    "    last_height = driver.execute_script(\"return arguments[0].scrollHeight\", all_reviews)\n",
    "    # last_height = driver.execute_script(\"return document.getElementsByClassName('odk6He')[0].scrollHeight\")\n",
    "\n",
    "    while True :\n",
    "        # 현재 height만큼 스크롤\n",
    "        driver.execute_script(f'arguments[0].scrollTop = {last_height}', all_reviews)\n",
    "        time.sleep(1)   # 로드 기다리는 시간\n",
    "\n",
    "        new_height = driver.execute_script(\"return arguments[0].scrollHeight\", all_reviews)\n",
    "        # new_height = driver.execute_script(\"return document.getElementsByClassName('odk6He')[0].scrollHeight\")\n",
    "\n",
    "        # 스크롤을 진행했는데도 이전 height와 스크롤 이후 height가 같으면 더이상 로드할 데이터가 없다는 뜻이므로 스크롤 중단\n",
    "        if new_height == last_height :\n",
    "            break\n",
    "\n",
    "        last_height = new_height\n",
    "\n",
    "    print(f\"{NAME} 데이터 수집 시작\")\n",
    "\n",
    "    data = pd.DataFrame(data=[], columns=['app','user','date','review','star','thumbs'])\n",
    "    #게임이름, 아이디, 날짜, 리뷰, 별점, 추천 수집\n",
    "    app_names = APPNAMES\n",
    "    users = driver.find_elements(by=By.XPATH, value = '//div[@class=\"odk6He\"]//div[@class=\"X5PpBb\"]')\n",
    "    dates = driver.find_elements(by=By.XPATH, value = '//div[@class=\"odk6He\"]//span[@class=\"bp9Aid\"]')\n",
    "    reviews=driver.find_elements(by=By.XPATH, value = '//div[@class=\"odk6He\"]//div[@class=\"h3YV2d\"]')\n",
    "    stargrades = driver.find_elements(by=By.XPATH, value = '//div[@class=\"odk6He\"]//div[@class=\"iXRFPc\"]')\n",
    "    thumbs_up = driver.find_elements(By.XPATH, value='//div[@data-review-id]')\n",
    "\n",
    "    min_length = min(len(users), len(dates), len(reviews), len(stargrades), len(thumbs_up))\n",
    "\n",
    "    # 수집한 리뷰를 DataFrame에 삽입\n",
    "    for i in range(min_length):\n",
    "        tmp = [NAME]\n",
    "        \n",
    "        if i < len(users):\n",
    "            tmp.append(users[i].text)\n",
    "        else:\n",
    "            tmp.append(\"\")\n",
    "\n",
    "        if i < len(dates):\n",
    "            tmp.append(dates[i].text)\n",
    "        else:\n",
    "            tmp.append(\"\")\n",
    "\n",
    "        if i < len(reviews):\n",
    "            tmp.append(reviews[i].text)\n",
    "        else:\n",
    "            tmp.append(\"\")\n",
    "\n",
    "        if i < len(stargrades):\n",
    "            star_text = stargrades[i].get_attribute('aria-label')\n",
    "            star_score = re.findall(r'\\d+(\\.\\d+)?', star_text)[0] if star_text else \"\"\n",
    "            tmp.append(star_score)\n",
    "        else:\n",
    "            tmp.append(\"\")\n",
    "\n",
    "        if i < len(thumbs_up):\n",
    "            tmp.append(thumbs_up[i].get_attribute('data-original-thumbs-up-count'))\n",
    "        else:\n",
    "            tmp.append(\"0\")\n",
    "\n",
    "        tmp_df = pd.DataFrame(data=[tmp], columns=data.columns)\n",
    "        data = pd.concat([data, tmp_df], ignore_index=True)\n",
    "\n",
    "\n",
    "    # 인덱스 재배열\n",
    "    data.reset_index(inplace=True, drop=True)\n",
    "\n",
    "    print(f\"{NAME} 파일 추출\")\n",
    "\n",
    "    # 별점에서 숫자만 추출\n",
    "    data['star'] = data['star'].apply(lambda x: x[5:])\n",
    "    m = re.compile('[0-9][\\.0-9]*')  # 정규표현식\n",
    "    data['star'] = data['star'].apply(lambda x: m.findall(x)[0] if m.findall(x) else '')\n",
    "\n",
    "\n",
    "    # 엑셀 파일로 추출\n",
    "    data.to_excel(f'review_plus_{NAME}.xlsx')"
   ]
  },
  {
   "cell_type": "code",
   "execution_count": null,
   "id": "073019a3",
   "metadata": {},
   "outputs": [],
   "source": [
    "driver.close()"
   ]
  },
  {
   "cell_type": "code",
   "execution_count": null,
   "id": "6e35dc72",
   "metadata": {},
   "outputs": [],
   "source": []
  }
 ],
 "metadata": {
  "kernelspec": {
   "display_name": "Python 3 (ipykernel)",
   "language": "python",
   "name": "python3"
  },
  "language_info": {
   "codemirror_mode": {
    "name": "ipython",
    "version": 3
   },
   "file_extension": ".py",
   "mimetype": "text/x-python",
   "name": "python",
   "nbconvert_exporter": "python",
   "pygments_lexer": "ipython3",
   "version": "3.8.19"
  }
 },
 "nbformat": 4,
 "nbformat_minor": 5
}
